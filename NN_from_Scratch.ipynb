{
  "nbformat": 4,
  "nbformat_minor": 0,
  "metadata": {
    "colab": {
      "provenance": [],
      "authorship_tag": "ABX9TyPUL+0oHlwRey1fbF153RFU",
      "include_colab_link": true
    },
    "kernelspec": {
      "name": "python3",
      "display_name": "Python 3"
    },
    "language_info": {
      "name": "python"
    }
  },
  "cells": [
    {
      "cell_type": "markdown",
      "metadata": {
        "id": "view-in-github",
        "colab_type": "text"
      },
      "source": [
        "<a href=\"https://colab.research.google.com/github/bhoop70233/Data-Science/blob/main/NN_from_Scratch.ipynb\" target=\"_parent\"><img src=\"https://colab.research.google.com/assets/colab-badge.svg\" alt=\"Open In Colab\"/></a>"
      ]
    },
    {
      "cell_type": "code",
      "execution_count": 1,
      "metadata": {
        "id": "9MDaAmRe9jlA"
      },
      "outputs": [],
      "source": [
        "input=[1,2,3]\n",
        "weights=[0.2,0.8,-0.5]\n",
        "bias=2\n"
      ]
    },
    {
      "cell_type": "code",
      "source": [
        "output=(input[0]*weights[0]+input[1]*weights[1]+input[2]*weights[2]+bias)\n",
        "print(output)"
      ],
      "metadata": {
        "colab": {
          "base_uri": "https://localhost:8080/"
        },
        "id": "Cqt27vNr98zH",
        "outputId": "8db66911-d3f3-4ea8-8ae4-ff7044864ff5"
      },
      "execution_count": 2,
      "outputs": [
        {
          "output_type": "stream",
          "name": "stdout",
          "text": [
            "2.3\n"
          ]
        }
      ]
    },
    {
      "cell_type": "code",
      "source": [
        "inputs=[1,2,3,2.5]\n",
        "weights1=[0.2,0.8,-0.5,1]\n",
        "weights2=[0.5,-0.91,0.34,-0.45]\n",
        "weights3=[-0.56,-0.34,0.23,0.45]\n",
        "bias1=2\n",
        "bias2=3\n",
        "bias3=0.5\n",
        "\n",
        "outputs=[\n",
        "    #Neuron 1:\n",
        "    inputs[0]*weights1[0]+\n",
        "    inputs[1]*weights1[1]+\n",
        "    inputs[2]*weights1[2]+\n",
        "    inputs[3]*weights1[3]+bias1,\n",
        "\n",
        "    #Neurons 2:\n",
        "    inputs[0]*weights2[0]+\n",
        "    inputs[1]*weights2[1]+\n",
        "    inputs[2]*weights2[2]+\n",
        "    inputs[3]*weights2[3]+bias2,\n",
        "\n",
        "\n",
        "    #Neuron 3:\n",
        "    inputs[0]*weights3[0]+\n",
        "    inputs[1]*weights3[1]+\n",
        "    inputs[2]*weights3[2]+\n",
        "    inputs[3]*weights3[3]+bias3\n",
        "\n",
        "]\n",
        "print(outputs)"
      ],
      "metadata": {
        "colab": {
          "base_uri": "https://localhost:8080/"
        },
        "id": "cIv_8E_3-TJH",
        "outputId": "ce17c6f2-32db-44bc-ef80-08b1291245fa"
      },
      "execution_count": 3,
      "outputs": [
        {
          "output_type": "stream",
          "name": "stdout",
          "text": [
            "[4.8, 1.575, 1.0749999999999997]\n"
          ]
        }
      ]
    },
    {
      "cell_type": "code",
      "source": [
        "inputs=[1,2,3,2.5]\n",
        "weights=[[0.2,0.8,-0.5,1],\n",
        "         [0.5,-0.91,0.26,-0.5],\n",
        "         [-0.26,-0.27,0.17,0.87]]\n",
        "biases=[2,3,0.6]\n",
        "\n",
        "#Output of current layer\n",
        "layer_outputs=[]\n",
        "# For each neuron\n",
        "for neuron_weights,neuron_bias in zip(weights,biases):\n",
        "      # Zeroed output of given neuron\n",
        "      neuron_output=0\n",
        "      # For each input and weight to the neuron\n",
        "      for n_input,weight in zip(inputs,neuron_weights):\n",
        "        #Multiply this input by associated weight\n",
        "        # and add to the neuron's output variable\n",
        "        neuron_output+=n_input*weight\n",
        "      #Add bias\n",
        "      neuron_output+=neuron_bias\n",
        "      #Put neuron's result to the layer's output list\n",
        "      layer_outputs.append(neuron_output)\n",
        "print(layer_outputs)"
      ],
      "metadata": {
        "colab": {
          "base_uri": "https://localhost:8080/"
        },
        "id": "2uYQ_iNBC2i-",
        "outputId": "8d32ee9b-8dfe-4495-c7d9-f3dde0d525e2"
      },
      "execution_count": 4,
      "outputs": [
        {
          "output_type": "stream",
          "name": "stdout",
          "text": [
            "[4.8, 1.21, 2.485]\n"
          ]
        }
      ]
    },
    {
      "cell_type": "code",
      "source": [
        "#simple list\n",
        "l=[1,5,6,2]\n",
        "#list of lists\n",
        "lol=[[1,5,6,2],\n",
        "     [3,2,1,3]]\n",
        "#list of lists of lists\n",
        "lolol=[[[1,5,6,2],\n",
        "        [3,2,1,3]],\n",
        "        [[5,2,1,2],\n",
        "         [6,4,8,4]],\n",
        "       [[2,8,5,3],\n",
        "        [1,1,9,4]]]"
      ],
      "metadata": {
        "id": "DKvrTWltGwv9"
      },
      "execution_count": 5,
      "outputs": []
    },
    {
      "cell_type": "code",
      "source": [
        "another_list_of_lists=[[4,2,3],\n",
        "                       [5,1]]"
      ],
      "metadata": {
        "id": "P4mGaRgMIWwQ"
      },
      "execution_count": 6,
      "outputs": []
    },
    {
      "cell_type": "code",
      "source": [
        "list_matrix_array=[[4,2],\n",
        "                   [5,1],\n",
        "                   [8,2]]"
      ],
      "metadata": {
        "id": "-K51C3D7IjdJ"
      },
      "execution_count": 7,
      "outputs": []
    },
    {
      "cell_type": "code",
      "source": [
        "#dot product\n",
        "a=[1,2,3]\n",
        "b=[2,3,4]\n",
        "dot_product=a[0]*b[0]+a[1]*b[1]+a[2]*b[2]\n",
        "print(dot_product)\n"
      ],
      "metadata": {
        "colab": {
          "base_uri": "https://localhost:8080/"
        },
        "id": "mqZKvj1gJErQ",
        "outputId": "e287231f-3138-404e-fefe-daf3d47787a1"
      },
      "execution_count": 8,
      "outputs": [
        {
          "output_type": "stream",
          "name": "stdout",
          "text": [
            "20\n"
          ]
        }
      ]
    },
    {
      "cell_type": "code",
      "source": [
        "import numpy as np\n",
        "input=[1.0,2.0,3.0,2.5]\n",
        "weights=[0.2,0.8,-0.5,1.0]\n",
        "bias=2.0\n",
        "outputs=np.dot(weights,inputs)+bias\n",
        "print(outputs)"
      ],
      "metadata": {
        "colab": {
          "base_uri": "https://localhost:8080/"
        },
        "id": "sktUY3CcMSaL",
        "outputId": "23d0ae08-351c-4ec9-cf9f-39dbb8abb2c5"
      },
      "execution_count": 9,
      "outputs": [
        {
          "output_type": "stream",
          "name": "stdout",
          "text": [
            "4.8\n"
          ]
        }
      ]
    },
    {
      "cell_type": "code",
      "source": [
        "import numpy as np\n",
        "input=[1.0,2.0,3.0,2.5]\n",
        "weights=[[0.2,0.8,-0.5,1],\n",
        "         [0.5,-0.91,0.26,-0.5],\n",
        "         [-0.26,-0.27,0.17,0.87]]\n",
        "biases=[2.0,3.0,0.5]\n",
        "layer_outputs=np.dot(weights,inputs)+biases\n",
        "print(layer_outputs)"
      ],
      "metadata": {
        "colab": {
          "base_uri": "https://localhost:8080/"
        },
        "id": "2d8rOS4xNEfr",
        "outputId": "8f0b14b5-fefa-425a-a0a9-83a58521815f"
      },
      "execution_count": 10,
      "outputs": [
        {
          "output_type": "stream",
          "name": "stdout",
          "text": [
            "[4.8   1.21  2.385]\n"
          ]
        }
      ]
    },
    {
      "cell_type": "code",
      "source": [
        "np.array([[1,2,3]])"
      ],
      "metadata": {
        "colab": {
          "base_uri": "https://localhost:8080/"
        },
        "id": "S4-FPuoXOSky",
        "outputId": "b6ece78a-63bd-4d74-d4d5-60c4187d6123"
      },
      "execution_count": 11,
      "outputs": [
        {
          "output_type": "execute_result",
          "data": {
            "text/plain": [
              "array([[1, 2, 3]])"
            ]
          },
          "metadata": {},
          "execution_count": 11
        }
      ]
    },
    {
      "cell_type": "code",
      "source": [
        "a=[1,2,3]\n",
        "print(np.array([a]))"
      ],
      "metadata": {
        "colab": {
          "base_uri": "https://localhost:8080/"
        },
        "id": "1KRbE4yaRjR-",
        "outputId": "4761a606-caf5-486b-e54f-34aacdfb9fd3"
      },
      "execution_count": 12,
      "outputs": [
        {
          "output_type": "stream",
          "name": "stdout",
          "text": [
            "[[1 2 3]]\n"
          ]
        }
      ]
    },
    {
      "cell_type": "code",
      "source": [
        "a=[1,2,3]\n",
        "print(np.expand_dims(np.array(a),axis=0))"
      ],
      "metadata": {
        "colab": {
          "base_uri": "https://localhost:8080/"
        },
        "id": "VWoB9asVRsQd",
        "outputId": "ce475208-982c-439c-f0b9-ac2841360aad"
      },
      "execution_count": 13,
      "outputs": [
        {
          "output_type": "stream",
          "name": "stdout",
          "text": [
            "[[1 2 3]]\n"
          ]
        }
      ]
    },
    {
      "cell_type": "code",
      "source": [
        "import numpy as np\n",
        "a=[1,2,3]\n",
        "b=[2,3,4]\n",
        "a=np.array([a])\n",
        "b=np.array([b]).T\n",
        "\n",
        "print(np.dot(a,b))"
      ],
      "metadata": {
        "colab": {
          "base_uri": "https://localhost:8080/"
        },
        "id": "xjk3K48oR9CX",
        "outputId": "8ec8e47d-f91f-4242-86af-f1ecabf35d89"
      },
      "execution_count": 14,
      "outputs": [
        {
          "output_type": "stream",
          "name": "stdout",
          "text": [
            "[[20]]\n"
          ]
        }
      ]
    },
    {
      "cell_type": "code",
      "source": [],
      "metadata": {
        "id": "Phqvf99FSYqt"
      },
      "execution_count": null,
      "outputs": []
    }
  ]
}