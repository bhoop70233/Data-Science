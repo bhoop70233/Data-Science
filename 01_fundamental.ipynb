{
  "nbformat": 4,
  "nbformat_minor": 0,
  "metadata": {
    "colab": {
      "provenance": [],
      "authorship_tag": "ABX9TyN3fDpApajrqCBoW1kh4MNL",
      "include_colab_link": true
    },
    "kernelspec": {
      "name": "python3",
      "display_name": "Python 3"
    },
    "language_info": {
      "name": "python"
    }
  },
  "cells": [
    {
      "cell_type": "markdown",
      "metadata": {
        "id": "view-in-github",
        "colab_type": "text"
      },
      "source": [
        "<a href=\"https://colab.research.google.com/github/bhoop70233/Data-Science/blob/main/01_fundamental.ipynb\" target=\"_parent\"><img src=\"https://colab.research.google.com/assets/colab-badge.svg\" alt=\"Open In Colab\"/></a>"
      ]
    },
    {
      "cell_type": "code",
      "source": [
        "import numpy as np\n",
        "\n",
        "# Generate a list of 4 lists of 5 random numbers each\n",
        "list_of_lists = []\n",
        "for i in range(4):\n",
        "    # Generate a list of 5 numbers between 0 and 100 and add this list to [list_of_lists]\n",
        "    list_of_lists.append(np.random.randint(low=0, high=100, size=5))\n",
        "\n",
        "# Convert list_of_lists into numpy matrix\n",
        "matrix = np.matrix(list_of_lists)\n",
        "print(\"Here is your matrix:\\n{}\\n\".format(matrix))\n",
        "\n",
        "# Addition\n",
        "new_matrix = np.add(matrix, 5)\n",
        "print(\"Here is your matrix with addition +5:\\n{}\\n\".format(new_matrix))\n",
        "\n",
        "# Multiplication\n",
        "new_matrix = np.multiply(matrix, matrix)\n",
        "print(\"Here is your matrix multiplied by itself:\\n{}\\n\".format(new_matrix))\n",
        "\n",
        "# Transposition\n",
        "new_matrix = np.transpose(matrix)\n",
        "print(\"Here is your matrix transposed:\\n{}\\n\".format(new_matrix))\n"
      ],
      "metadata": {
        "colab": {
          "base_uri": "https://localhost:8080/"
        },
        "id": "Cnz14m6Zqso9",
        "outputId": "3176fd70-b5b4-4531-e6ee-4f85e0f4124d"
      },
      "execution_count": 4,
      "outputs": [
        {
          "output_type": "stream",
          "name": "stdout",
          "text": [
            "Here is your matrix:\n",
            "[[72 61 77 60 17]\n",
            " [82  3 31 55 41]\n",
            " [71 69 38  2 48]\n",
            " [67 98 24 31 66]]\n",
            "\n",
            "Here is your matrix with addition +5:\n",
            "[[ 77  66  82  65  22]\n",
            " [ 87   8  36  60  46]\n",
            " [ 76  74  43   7  53]\n",
            " [ 72 103  29  36  71]]\n",
            "\n",
            "Here is your matrix multiplied by itself:\n",
            "[[5184 3721 5929 3600  289]\n",
            " [6724    9  961 3025 1681]\n",
            " [5041 4761 1444    4 2304]\n",
            " [4489 9604  576  961 4356]]\n",
            "\n",
            "Here is your matrix transposed:\n",
            "[[72 82 71 67]\n",
            " [61  3 69 98]\n",
            " [77 31 38 24]\n",
            " [60 55  2 31]\n",
            " [17 41 48 66]]\n",
            "\n"
          ]
        }
      ]
    },
    {
      "cell_type": "code",
      "source": [],
      "metadata": {
        "id": "QRMlORcystlF"
      },
      "execution_count": null,
      "outputs": []
    }
  ]
}